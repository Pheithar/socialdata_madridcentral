{
 "cells": [
  {
   "cell_type": "markdown",
   "id": "855a0230",
   "metadata": {},
   "source": [
    "# Imports"
   ]
  },
  {
   "cell_type": "code",
   "execution_count": 15,
   "id": "9b1e9f51",
   "metadata": {},
   "outputs": [
    {
     "data": {
      "text/html": [
       "\n",
       "    <div class=\"bk-root\">\n",
       "        <a href=\"https://bokeh.org\" target=\"_blank\" class=\"bk-logo bk-logo-small bk-logo-notebook\"></a>\n",
       "        <span id=\"1424\">Loading BokehJS ...</span>\n",
       "    </div>"
      ]
     },
     "metadata": {},
     "output_type": "display_data"
    },
    {
     "data": {
      "application/javascript": "\n(function(root) {\n  function now() {\n    return new Date();\n  }\n\n  const force = true;\n\n  if (typeof root._bokeh_onload_callbacks === \"undefined\" || force === true) {\n    root._bokeh_onload_callbacks = [];\n    root._bokeh_is_loading = undefined;\n  }\n\n  const JS_MIME_TYPE = 'application/javascript';\n  const HTML_MIME_TYPE = 'text/html';\n  const EXEC_MIME_TYPE = 'application/vnd.bokehjs_exec.v0+json';\n  const CLASS_NAME = 'output_bokeh rendered_html';\n\n  /**\n   * Render data to the DOM node\n   */\n  function render(props, node) {\n    const script = document.createElement(\"script\");\n    node.appendChild(script);\n  }\n\n  /**\n   * Handle when an output is cleared or removed\n   */\n  function handleClearOutput(event, handle) {\n    const cell = handle.cell;\n\n    const id = cell.output_area._bokeh_element_id;\n    const server_id = cell.output_area._bokeh_server_id;\n    // Clean up Bokeh references\n    if (id != null && id in Bokeh.index) {\n      Bokeh.index[id].model.document.clear();\n      delete Bokeh.index[id];\n    }\n\n    if (server_id !== undefined) {\n      // Clean up Bokeh references\n      const cmd_clean = \"from bokeh.io.state import curstate; print(curstate().uuid_to_server['\" + server_id + \"'].get_sessions()[0].document.roots[0]._id)\";\n      cell.notebook.kernel.execute(cmd_clean, {\n        iopub: {\n          output: function(msg) {\n            const id = msg.content.text.trim();\n            if (id in Bokeh.index) {\n              Bokeh.index[id].model.document.clear();\n              delete Bokeh.index[id];\n            }\n          }\n        }\n      });\n      // Destroy server and session\n      const cmd_destroy = \"import bokeh.io.notebook as ion; ion.destroy_server('\" + server_id + \"')\";\n      cell.notebook.kernel.execute(cmd_destroy);\n    }\n  }\n\n  /**\n   * Handle when a new output is added\n   */\n  function handleAddOutput(event, handle) {\n    const output_area = handle.output_area;\n    const output = handle.output;\n\n    // limit handleAddOutput to display_data with EXEC_MIME_TYPE content only\n    if ((output.output_type != \"display_data\") || (!Object.prototype.hasOwnProperty.call(output.data, EXEC_MIME_TYPE))) {\n      return\n    }\n\n    const toinsert = output_area.element.find(\".\" + CLASS_NAME.split(' ')[0]);\n\n    if (output.metadata[EXEC_MIME_TYPE][\"id\"] !== undefined) {\n      toinsert[toinsert.length - 1].firstChild.textContent = output.data[JS_MIME_TYPE];\n      // store reference to embed id on output_area\n      output_area._bokeh_element_id = output.metadata[EXEC_MIME_TYPE][\"id\"];\n    }\n    if (output.metadata[EXEC_MIME_TYPE][\"server_id\"] !== undefined) {\n      const bk_div = document.createElement(\"div\");\n      bk_div.innerHTML = output.data[HTML_MIME_TYPE];\n      const script_attrs = bk_div.children[0].attributes;\n      for (let i = 0; i < script_attrs.length; i++) {\n        toinsert[toinsert.length - 1].firstChild.setAttribute(script_attrs[i].name, script_attrs[i].value);\n        toinsert[toinsert.length - 1].firstChild.textContent = bk_div.children[0].textContent\n      }\n      // store reference to server id on output_area\n      output_area._bokeh_server_id = output.metadata[EXEC_MIME_TYPE][\"server_id\"];\n    }\n  }\n\n  function register_renderer(events, OutputArea) {\n\n    function append_mime(data, metadata, element) {\n      // create a DOM node to render to\n      const toinsert = this.create_output_subarea(\n        metadata,\n        CLASS_NAME,\n        EXEC_MIME_TYPE\n      );\n      this.keyboard_manager.register_events(toinsert);\n      // Render to node\n      const props = {data: data, metadata: metadata[EXEC_MIME_TYPE]};\n      render(props, toinsert[toinsert.length - 1]);\n      element.append(toinsert);\n      return toinsert\n    }\n\n    /* Handle when an output is cleared or removed */\n    events.on('clear_output.CodeCell', handleClearOutput);\n    events.on('delete.Cell', handleClearOutput);\n\n    /* Handle when a new output is added */\n    events.on('output_added.OutputArea', handleAddOutput);\n\n    /**\n     * Register the mime type and append_mime function with output_area\n     */\n    OutputArea.prototype.register_mime_type(EXEC_MIME_TYPE, append_mime, {\n      /* Is output safe? */\n      safe: true,\n      /* Index of renderer in `output_area.display_order` */\n      index: 0\n    });\n  }\n\n  // register the mime type if in Jupyter Notebook environment and previously unregistered\n  if (root.Jupyter !== undefined) {\n    const events = require('base/js/events');\n    const OutputArea = require('notebook/js/outputarea').OutputArea;\n\n    if (OutputArea.prototype.mime_types().indexOf(EXEC_MIME_TYPE) == -1) {\n      register_renderer(events, OutputArea);\n    }\n  }\n\n  \n  if (typeof (root._bokeh_timeout) === \"undefined\" || force === true) {\n    root._bokeh_timeout = Date.now() + 5000;\n    root._bokeh_failed_load = false;\n  }\n\n  const NB_LOAD_WARNING = {'data': {'text/html':\n     \"<div style='background-color: #fdd'>\\n\"+\n     \"<p>\\n\"+\n     \"BokehJS does not appear to have successfully loaded. If loading BokehJS from CDN, this \\n\"+\n     \"may be due to a slow or bad network connection. Possible fixes:\\n\"+\n     \"</p>\\n\"+\n     \"<ul>\\n\"+\n     \"<li>re-rerun `output_notebook()` to attempt to load from CDN again, or</li>\\n\"+\n     \"<li>use INLINE resources instead, as so:</li>\\n\"+\n     \"</ul>\\n\"+\n     \"<code>\\n\"+\n     \"from bokeh.resources import INLINE\\n\"+\n     \"output_notebook(resources=INLINE)\\n\"+\n     \"</code>\\n\"+\n     \"</div>\"}};\n\n  function display_loaded() {\n    const el = document.getElementById(\"1424\");\n    if (el != null) {\n      el.textContent = \"BokehJS is loading...\";\n    }\n    if (root.Bokeh !== undefined) {\n      if (el != null) {\n        el.textContent = \"BokehJS \" + root.Bokeh.version + \" successfully loaded.\";\n      }\n    } else if (Date.now() < root._bokeh_timeout) {\n      setTimeout(display_loaded, 100)\n    }\n  }\n\n\n  function run_callbacks() {\n    try {\n      root._bokeh_onload_callbacks.forEach(function(callback) {\n        if (callback != null)\n          callback();\n      });\n    } finally {\n      delete root._bokeh_onload_callbacks\n    }\n    console.debug(\"Bokeh: all callbacks have finished\");\n  }\n\n  function load_libs(css_urls, js_urls, callback) {\n    if (css_urls == null) css_urls = [];\n    if (js_urls == null) js_urls = [];\n\n    root._bokeh_onload_callbacks.push(callback);\n    if (root._bokeh_is_loading > 0) {\n      console.debug(\"Bokeh: BokehJS is being loaded, scheduling callback at\", now());\n      return null;\n    }\n    if (js_urls == null || js_urls.length === 0) {\n      run_callbacks();\n      return null;\n    }\n    console.debug(\"Bokeh: BokehJS not loaded, scheduling load and callback at\", now());\n    root._bokeh_is_loading = css_urls.length + js_urls.length;\n\n    function on_load() {\n      root._bokeh_is_loading--;\n      if (root._bokeh_is_loading === 0) {\n        console.debug(\"Bokeh: all BokehJS libraries/stylesheets loaded\");\n        run_callbacks()\n      }\n    }\n\n    function on_error(url) {\n      console.error(\"failed to load \" + url);\n    }\n\n    for (let i = 0; i < css_urls.length; i++) {\n      const url = css_urls[i];\n      const element = document.createElement(\"link\");\n      element.onload = on_load;\n      element.onerror = on_error.bind(null, url);\n      element.rel = \"stylesheet\";\n      element.type = \"text/css\";\n      element.href = url;\n      console.debug(\"Bokeh: injecting link tag for BokehJS stylesheet: \", url);\n      document.body.appendChild(element);\n    }\n\n    for (let i = 0; i < js_urls.length; i++) {\n      const url = js_urls[i];\n      const element = document.createElement('script');\n      element.onload = on_load;\n      element.onerror = on_error.bind(null, url);\n      element.async = false;\n      element.src = url;\n      console.debug(\"Bokeh: injecting script tag for BokehJS library: \", url);\n      document.head.appendChild(element);\n    }\n  };\n\n  function inject_raw_css(css) {\n    const element = document.createElement(\"style\");\n    element.appendChild(document.createTextNode(css));\n    document.body.appendChild(element);\n  }\n\n  \n  const js_urls = [\"https://cdn.bokeh.org/bokeh/release/bokeh-2.4.2.min.js\", \"https://cdn.bokeh.org/bokeh/release/bokeh-gl-2.4.2.min.js\", \"https://cdn.bokeh.org/bokeh/release/bokeh-widgets-2.4.2.min.js\", \"https://cdn.bokeh.org/bokeh/release/bokeh-tables-2.4.2.min.js\", \"https://cdn.bokeh.org/bokeh/release/bokeh-mathjax-2.4.2.min.js\"];\n  const css_urls = [];\n  \n\n  const inline_js = [\n    function(Bokeh) {\n      Bokeh.set_log_level(\"info\");\n    },\n    function(Bokeh) {\n    \n    \n    }\n  ];\n\n  function run_inline_js() {\n    \n    if (root.Bokeh !== undefined || force === true) {\n      \n    for (let i = 0; i < inline_js.length; i++) {\n      inline_js[i].call(root, root.Bokeh);\n    }\n    if (force === true) {\n        display_loaded();\n      }} else if (Date.now() < root._bokeh_timeout) {\n      setTimeout(run_inline_js, 100);\n    } else if (!root._bokeh_failed_load) {\n      console.log(\"Bokeh: BokehJS failed to load within specified timeout.\");\n      root._bokeh_failed_load = true;\n    } else if (force !== true) {\n      const cell = $(document.getElementById(\"1424\")).parents('.cell').data().cell;\n      cell.output_area.append_execute_result(NB_LOAD_WARNING)\n    }\n\n  }\n\n  if (root._bokeh_is_loading === 0) {\n    console.debug(\"Bokeh: BokehJS loaded, going straight to plotting\");\n    run_inline_js();\n  } else {\n    load_libs(css_urls, js_urls, function() {\n      console.debug(\"Bokeh: BokehJS plotting callback run at\", now());\n      run_inline_js();\n    });\n  }\n}(window));",
      "application/vnd.bokehjs_load.v0+json": ""
     },
     "metadata": {},
     "output_type": "display_data"
    }
   ],
   "source": [
    "# IMPORT\n",
    "import pandas as pd\n",
    "import matplotlib.pyplot as plt\n",
    "from matplotlib.path import Path\n",
    "import numpy as np\n",
    "import seaborn as sns\n",
    "\n",
    "# bokeh\n",
    "import bokeh.palettes\n",
    "from bokeh.plotting import figure, show\n",
    "from bokeh.io import output_notebook\n",
    "from bokeh.models import HoverTool, Legend, ColumnDataSource, Title\n",
    "from bokeh.tile_providers import get_provider, CARTODBPOSITRON\n",
    "from bokeh.models import GeoJSONDataSource\n",
    "\n",
    "\n",
    "output_notebook()\n",
    "np.random.seed(42)"
   ]
  },
  {
   "cell_type": "markdown",
   "id": "09677855",
   "metadata": {},
   "source": [
    "# Constants"
   ]
  },
  {
   "cell_type": "code",
   "execution_count": null,
   "id": "affaccd4",
   "metadata": {},
   "outputs": [],
   "source": [
    "district_colors = sns.color_palette('colorblind', 21)\n"
   ]
  },
  {
   "cell_type": "markdown",
   "id": "8597e4b8",
   "metadata": {},
   "source": [
    "# Madrid Central\n",
    "\n",
    "We are going to analyze the impact of Madrid Central both from an air quality and a traffic viewpoint.\n",
    "\n",
    "## Air Quality"
   ]
  },
  {
   "cell_type": "code",
   "execution_count": 5,
   "id": "bee95c7f",
   "metadata": {},
   "outputs": [
    {
     "data": {
      "text/html": [
       "<div>\n",
       "<style scoped>\n",
       "    .dataframe tbody tr th:only-of-type {\n",
       "        vertical-align: middle;\n",
       "    }\n",
       "\n",
       "    .dataframe tbody tr th {\n",
       "        vertical-align: top;\n",
       "    }\n",
       "\n",
       "    .dataframe thead th {\n",
       "        text-align: right;\n",
       "    }\n",
       "</style>\n",
       "<table border=\"1\" class=\"dataframe\">\n",
       "  <thead>\n",
       "    <tr style=\"text-align: right;\">\n",
       "      <th></th>\n",
       "      <th>PROVINCIA</th>\n",
       "      <th>MUNICIPIO</th>\n",
       "      <th>ESTACION</th>\n",
       "      <th>value</th>\n",
       "      <th>datetime</th>\n",
       "      <th>punto_muestreo</th>\n",
       "      <th>name</th>\n",
       "      <th>longitude</th>\n",
       "      <th>latitude</th>\n",
       "      <th>altitude</th>\n",
       "      <th>utm_x</th>\n",
       "      <th>utm_y</th>\n",
       "      <th>magnitud_id</th>\n",
       "      <th>formula</th>\n",
       "      <th>unit_per_m3</th>\n",
       "    </tr>\n",
       "  </thead>\n",
       "  <tbody>\n",
       "    <tr>\n",
       "      <th>0</th>\n",
       "      <td>28</td>\n",
       "      <td>79</td>\n",
       "      <td>4</td>\n",
       "      <td>7.0</td>\n",
       "      <td>2016-04-01 01:00:00</td>\n",
       "      <td>28079004</td>\n",
       "      <td>Plaza de España</td>\n",
       "      <td>-3.712197</td>\n",
       "      <td>40.423883</td>\n",
       "      <td>637</td>\n",
       "      <td>-413239.904502</td>\n",
       "      <td>4.927732e+06</td>\n",
       "      <td>1</td>\n",
       "      <td>SO2</td>\n",
       "      <td>µg</td>\n",
       "    </tr>\n",
       "    <tr>\n",
       "      <th>1</th>\n",
       "      <td>28</td>\n",
       "      <td>79</td>\n",
       "      <td>4</td>\n",
       "      <td>8.0</td>\n",
       "      <td>2016-04-02 01:00:00</td>\n",
       "      <td>28079004</td>\n",
       "      <td>Plaza de España</td>\n",
       "      <td>-3.712197</td>\n",
       "      <td>40.423883</td>\n",
       "      <td>637</td>\n",
       "      <td>-413239.904502</td>\n",
       "      <td>4.927732e+06</td>\n",
       "      <td>1</td>\n",
       "      <td>SO2</td>\n",
       "      <td>µg</td>\n",
       "    </tr>\n",
       "    <tr>\n",
       "      <th>2</th>\n",
       "      <td>28</td>\n",
       "      <td>79</td>\n",
       "      <td>4</td>\n",
       "      <td>10.0</td>\n",
       "      <td>2016-04-03 01:00:00</td>\n",
       "      <td>28079004</td>\n",
       "      <td>Plaza de España</td>\n",
       "      <td>-3.712197</td>\n",
       "      <td>40.423883</td>\n",
       "      <td>637</td>\n",
       "      <td>-413239.904502</td>\n",
       "      <td>4.927732e+06</td>\n",
       "      <td>1</td>\n",
       "      <td>SO2</td>\n",
       "      <td>µg</td>\n",
       "    </tr>\n",
       "    <tr>\n",
       "      <th>3</th>\n",
       "      <td>28</td>\n",
       "      <td>79</td>\n",
       "      <td>4</td>\n",
       "      <td>7.0</td>\n",
       "      <td>2016-04-04 01:00:00</td>\n",
       "      <td>28079004</td>\n",
       "      <td>Plaza de España</td>\n",
       "      <td>-3.712197</td>\n",
       "      <td>40.423883</td>\n",
       "      <td>637</td>\n",
       "      <td>-413239.904502</td>\n",
       "      <td>4.927732e+06</td>\n",
       "      <td>1</td>\n",
       "      <td>SO2</td>\n",
       "      <td>µg</td>\n",
       "    </tr>\n",
       "    <tr>\n",
       "      <th>4</th>\n",
       "      <td>28</td>\n",
       "      <td>79</td>\n",
       "      <td>4</td>\n",
       "      <td>8.0</td>\n",
       "      <td>2016-04-05 01:00:00</td>\n",
       "      <td>28079004</td>\n",
       "      <td>Plaza de España</td>\n",
       "      <td>-3.712197</td>\n",
       "      <td>40.423883</td>\n",
       "      <td>637</td>\n",
       "      <td>-413239.904502</td>\n",
       "      <td>4.927732e+06</td>\n",
       "      <td>1</td>\n",
       "      <td>SO2</td>\n",
       "      <td>µg</td>\n",
       "    </tr>\n",
       "  </tbody>\n",
       "</table>\n",
       "</div>"
      ],
      "text/plain": [
       "   PROVINCIA  MUNICIPIO  ESTACION  value            datetime  punto_muestreo  \\\n",
       "0         28         79         4    7.0 2016-04-01 01:00:00        28079004   \n",
       "1         28         79         4    8.0 2016-04-02 01:00:00        28079004   \n",
       "2         28         79         4   10.0 2016-04-03 01:00:00        28079004   \n",
       "3         28         79         4    7.0 2016-04-04 01:00:00        28079004   \n",
       "4         28         79         4    8.0 2016-04-05 01:00:00        28079004   \n",
       "\n",
       "              name  longitude   latitude  altitude          utm_x  \\\n",
       "0  Plaza de España  -3.712197  40.423883       637 -413239.904502   \n",
       "1  Plaza de España  -3.712197  40.423883       637 -413239.904502   \n",
       "2  Plaza de España  -3.712197  40.423883       637 -413239.904502   \n",
       "3  Plaza de España  -3.712197  40.423883       637 -413239.904502   \n",
       "4  Plaza de España  -3.712197  40.423883       637 -413239.904502   \n",
       "\n",
       "          utm_y  magnitud_id formula unit_per_m3  \n",
       "0  4.927732e+06            1     SO2          µg  \n",
       "1  4.927732e+06            1     SO2          µg  \n",
       "2  4.927732e+06            1     SO2          µg  \n",
       "3  4.927732e+06            1     SO2          µg  \n",
       "4  4.927732e+06            1     SO2          µg  "
      ]
     },
     "execution_count": 5,
     "metadata": {},
     "output_type": "execute_result"
    }
   ],
   "source": [
    "# load air quality stations\n",
    "df_stations = pd.read_csv('shared_data/air_quality/air_quality_stations.csv')\n",
    "\n",
    "# load magnitud table\n",
    "df_magnitud = pd.read_csv('shared_data/air_quality/air_quality_magnitud.csv', sep=';')\n",
    "\n",
    "# load air quality data\n",
    "df = pd.read_csv('data/air_quality_data.csv')\n",
    "\n",
    "# converting Date to datetime type\n",
    "df[\"datetime\"] = pd.to_datetime(df[\"datetime\"])\n",
    "\n",
    "# merge with air quality stations\n",
    "df = pd.merge(df, df_stations, left_on = 'PUNTO_MUESTREO', right_on='punto_muestreo', how='left').drop('PUNTO_MUESTREO', axis=1)\n",
    "\n",
    "# merge with air quality magnitud\n",
    "df = pd.merge(df, df_magnitud, left_on = 'MAGNITUD', right_on='magnitud_id', how='left').drop('MAGNITUD', axis=1)\n",
    "\n",
    "df.head()"
   ]
  },
  {
   "cell_type": "code",
   "execution_count": 8,
   "id": "50c910d6",
   "metadata": {},
   "outputs": [
    {
     "name": "stdout",
     "output_type": "stream",
     "text": [
      "AIR QUALITY STATION NAMES:\n",
      "['Plaza de España', 'Escuelas Aguirre', 'Ramón y Cajal', 'Arturo Soria', 'Villaverde', 'Farolillo', 'Casa de Campo', 'Barajas Pueblo', 'Plaza del Carmen', 'Moratalaz', 'Cuatro Caminos', 'Barrio del Pilar', 'Vallecas', 'Méndez Álvaro', 'Castellana', 'Retiro', 'Plaza Castilla', 'Ensanche de Vallecas', 'Urbanización Embajada', 'Plaza Elíptica', 'Sanchinarro', 'El Pardo', 'Juan Carlos I', 'Tres Olivos']\n"
     ]
    }
   ],
   "source": [
    "print('AIR QUALITY STATION NAMES:')\n",
    "print([name for name in df.name.unique()])"
   ]
  },
  {
   "cell_type": "code",
   "execution_count": 14,
   "id": "b2282752",
   "metadata": {},
   "outputs": [
    {
     "data": {
      "text/html": [
       "\n",
       "\n",
       "\n",
       "\n",
       "\n",
       "\n",
       "  <div class=\"bk-root\" id=\"00ed6c4c-b486-4d27-8983-8feea288d56e\" data-root-id=\"1301\"></div>\n"
      ]
     },
     "metadata": {},
     "output_type": "display_data"
    },
    {
     "data": {
      "application/javascript": "(function(root) {\n  function embed_document(root) {\n    \n  const docs_json = {\"9bb20dbc-b48e-463e-910b-2357454dc77d\":{\"defs\":[],\"roots\":{\"references\":[{\"attributes\":{\"below\":[{\"id\":\"1312\"}],\"center\":[{\"id\":\"1319\"},{\"id\":\"1327\"}],\"left\":[{\"id\":\"1320\"}],\"renderers\":[{\"id\":\"1347\"},{\"id\":\"1350\"}],\"title\":{\"id\":\"1302\"},\"toolbar\":{\"id\":\"1335\"},\"x_range\":{\"id\":\"1304\"},\"x_scale\":{\"id\":\"1308\"},\"y_range\":{\"id\":\"1306\"},\"y_scale\":{\"id\":\"1310\"}},\"id\":\"1301\",\"subtype\":\"Figure\",\"type\":\"Plot\"},{\"attributes\":{},\"id\":\"1306\",\"type\":\"DataRange1d\"},{\"attributes\":{\"source\":{\"id\":\"1342\"}},\"id\":\"1348\",\"type\":\"CDSView\"},{\"attributes\":{\"axis\":{\"id\":\"1312\"},\"coordinates\":null,\"group\":null,\"ticker\":null},\"id\":\"1319\",\"type\":\"Grid\"},{\"attributes\":{},\"id\":\"1304\",\"type\":\"DataRange1d\"},{\"attributes\":{\"callback\":null,\"renderers\":[{\"id\":\"1347\"}],\"tooltips\":[[\"Name\",\"@name\"]]},\"id\":\"1352\",\"type\":\"HoverTool\"},{\"attributes\":{\"coordinates\":null,\"group\":null,\"text\":\"Air quality stations in Madrid\"},\"id\":\"1302\",\"type\":\"Title\"},{\"attributes\":{\"dimension\":\"lon\"},\"id\":\"1313\",\"type\":\"MercatorTicker\"},{\"attributes\":{},\"id\":\"1371\",\"type\":\"UnionRenderers\"},{\"attributes\":{\"coordinates\":null,\"group\":null,\"tile_source\":{\"id\":\"1349\"}},\"id\":\"1350\",\"type\":\"TileRenderer\"},{\"attributes\":{\"coordinates\":null,\"formatter\":{\"id\":\"1315\"},\"group\":null,\"major_label_policy\":{\"id\":\"1370\"},\"ticker\":{\"id\":\"1313\"}},\"id\":\"1312\",\"type\":\"MercatorAxis\"},{\"attributes\":{},\"id\":\"1329\",\"type\":\"WheelZoomTool\"},{\"attributes\":{},\"id\":\"1308\",\"type\":\"LinearScale\"},{\"attributes\":{},\"id\":\"1310\",\"type\":\"LinearScale\"},{\"attributes\":{},\"id\":\"1372\",\"type\":\"Selection\"},{\"attributes\":{\"data\":{\"altitude\":[660,637,676,672,699,708,677,695,601,632,671,646,620,600,680,662,728,629,619,605,700,612,660,715],\"index\":[0,1,2,3,4,5,6,7,8,9,10,11,12,13,14,15,16,17,18,19,20,21,22,23],\"latitude\":{\"__ndarray__\":\"TPBgnqg1REA5/h7PQTZEQApD9782PURA5vk1zvU1REBQIv6wBzlEQB+EMcDJOURAJL3kzq4xREBgxI29UzhEQDhnRGlvLERAFtagQogyRECSqjzjNzREQGF8q4itNURAidLe4As9REBMgCUI9TJEQOAOwV5OOERA6XL7gww1REBbHRM8mDtEQCii/dO+L0RAidBqvS47REC2zRiXSDFEQHPXEvJBP0RAMZ0SX09CREBmO99PjTtEQCnGbu4RQERA\",\"dtype\":\"float64\",\"order\":\"little\",\"shape\":[24]},\"longitude\":{\"__ndarray__\":\"6sNn2BWgDcDS+A11lLINwHYpOdg5sQ3AJi7a9lB1DcAbwRWyL6gNwIBvXk08aw3Ay+0PMlQ2DcD/ad8rHB0NwLOcNRbYtA3ASgga5MzaDcBzkOpOiikNwLLjXbmP+g3A7J2CmuWjDMACmggbnn4NwB8XJN/hhQ3Az7ArQO51DcBOhoFyjIINwLcZ4xKp5QzAfiEgrv6kDMDq3k7TBcANwMBeTva8SA3ArSgSOWoyDsCcxdpBYd8MwOFNGXSRhA3A\",\"dtype\":\"float64\",\"order\":\"little\",\"shape\":[24]},\"name\":[\"Plaza del Carmen\",\"Plaza de Espa\\u00f1a\",\"Barrio del Pilar\",\"Escuelas Aguirre\",\"Cuatro Caminos\",\"Ram\\u00f3n y Cajal\",\"Vallecas\",\"Arturo Soria\",\"Villaverde\",\"Farolillo\",\"Moratalaz\",\"Casa de Campo\",\"Barajas Pueblo\",\"M\\u00e9ndez \\u00c1lvaro\",\"Castellana\",\"Retiro\",\"Plaza Castilla\",\"Ensanche de Vallecas\",\"Urbanizaci\\u00f3n Embajada\",\"Plaza El\\u00edptica\",\"Sanchinarro\",\"El Pardo\",\"Juan Carlos I\",\"Tres Olivos\"],\"punto_muestreo\":[28079035,28079004,28079039,28079008,28079038,28079011,28079040,28079016,28079017,28079018,28079036,28079024,28079027,28079047,28079048,28079049,28079050,28079054,28079055,28079056,28079057,28079058,28079059,28079060],\"utm_x\":{\"__ndarray__\":\"TD64giopGcGHxDWe3zgZwap2Yz25NxnB0rFbn9cEGcHujBTVCzAZwZlYi91H/BjBkKfy2VjPGMEXpXy/7bkYwc7HxOXLOhnBBlXoYQhbGcGbsn1WfMQYwXSvyuYBdhnBnCUcevtSGMG0DzTtvQwZwauXLG3pEhnBRqy0NF0FGcE4P+acFBAZwTVZ3tjVihjBcWAJMupTGMHfW4JfSkQZwcV8zmf73hjB1uv/nnGlGcFqdftTgIUYwb7x2LTLERnB\",\"dtype\":\"float64\",\"order\":\"little\",\"shape\":[24]},\"utm_y\":{\"__ndarray__\":\"e42nM5LLUkFg/dsZPcxSQd0flsoA1FJBv8ZYT+jLUkG2I3EzVc9SQfmty8ct0FJB442cCCPHUkGxA1pijM5SQas07YlJwVJBVTvMgxXIUkH7q+Hk9slSQSxwW6+Xy1JB3RyO7NDTUkHBnq3QjshSQeBdNGSGzlJBfqa5EOTKUkFPafACMtJSQatzBQ76xFJB6+9IP7zRUkE7WPgOscZSQZ4F2AdJ1lJBGSlE47HZUkHDVHXRJdJSQcfNV1Ix11JB\",\"dtype\":\"float64\",\"order\":\"little\",\"shape\":[24]}},\"selected\":{\"id\":\"1372\"},\"selection_policy\":{\"id\":\"1371\"}},\"id\":\"1342\",\"type\":\"ColumnDataSource\"},{\"attributes\":{\"axis\":{\"id\":\"1320\"},\"coordinates\":null,\"dimension\":1,\"group\":null,\"ticker\":null},\"id\":\"1327\",\"type\":\"Grid\"},{\"attributes\":{\"fill_alpha\":{\"value\":0.2},\"fill_color\":{\"value\":\"#1f77b4\"},\"hatch_alpha\":{\"value\":0.2},\"line_alpha\":{\"value\":0.2},\"line_color\":{\"value\":\"#1f77b4\"},\"size\":{\"value\":10},\"x\":{\"field\":\"utm_x\"},\"y\":{\"field\":\"utm_y\"}},\"id\":\"1346\",\"type\":\"Circle\"},{\"attributes\":{},\"id\":\"1328\",\"type\":\"PanTool\"},{\"attributes\":{},\"id\":\"1370\",\"type\":\"AllLabels\"},{\"attributes\":{\"fill_color\":{\"value\":\"#1f77b4\"},\"line_color\":{\"value\":\"#1f77b4\"},\"size\":{\"value\":10},\"x\":{\"field\":\"utm_x\"},\"y\":{\"field\":\"utm_y\"}},\"id\":\"1344\",\"type\":\"Circle\"},{\"attributes\":{\"fill_alpha\":{\"value\":0.1},\"fill_color\":{\"value\":\"#1f77b4\"},\"hatch_alpha\":{\"value\":0.1},\"line_alpha\":{\"value\":0.1},\"line_color\":{\"value\":\"#1f77b4\"},\"size\":{\"value\":10},\"x\":{\"field\":\"utm_x\"},\"y\":{\"field\":\"utm_y\"}},\"id\":\"1345\",\"type\":\"Circle\"},{\"attributes\":{\"attribution\":\"&copy; <a href=\\\"https://www.openstreetmap.org/copyright\\\">OpenStreetMap</a> contributors,&copy; <a href=\\\"https://cartodb.com/attributions\\\">CartoDB</a>\",\"url\":\"https://tiles.basemaps.cartocdn.com/light_all/{z}/{x}/{y}.png\"},\"id\":\"1349\",\"type\":\"WMTSTileSource\"},{\"attributes\":{},\"id\":\"1367\",\"type\":\"AllLabels\"},{\"attributes\":{},\"id\":\"1331\",\"type\":\"SaveTool\"},{\"attributes\":{\"dimension\":\"lat\"},\"id\":\"1323\",\"type\":\"MercatorTickFormatter\"},{\"attributes\":{\"coordinates\":null,\"data_source\":{\"id\":\"1342\"},\"glyph\":{\"id\":\"1344\"},\"group\":null,\"hover_glyph\":null,\"muted_glyph\":{\"id\":\"1346\"},\"nonselection_glyph\":{\"id\":\"1345\"},\"view\":{\"id\":\"1348\"}},\"id\":\"1347\",\"type\":\"GlyphRenderer\"},{\"attributes\":{\"overlay\":{\"id\":\"1334\"}},\"id\":\"1330\",\"type\":\"BoxZoomTool\"},{\"attributes\":{\"tools\":[{\"id\":\"1328\"},{\"id\":\"1329\"},{\"id\":\"1330\"},{\"id\":\"1331\"},{\"id\":\"1332\"},{\"id\":\"1333\"},{\"id\":\"1352\"}]},\"id\":\"1335\",\"type\":\"Toolbar\"},{\"attributes\":{},\"id\":\"1332\",\"type\":\"ResetTool\"},{\"attributes\":{\"dimension\":\"lat\"},\"id\":\"1321\",\"type\":\"MercatorTicker\"},{\"attributes\":{\"dimension\":\"lon\"},\"id\":\"1315\",\"type\":\"MercatorTickFormatter\"},{\"attributes\":{},\"id\":\"1333\",\"type\":\"HelpTool\"},{\"attributes\":{\"bottom_units\":\"screen\",\"coordinates\":null,\"fill_alpha\":0.5,\"fill_color\":\"lightgrey\",\"group\":null,\"left_units\":\"screen\",\"level\":\"overlay\",\"line_alpha\":1.0,\"line_color\":\"black\",\"line_dash\":[4,4],\"line_width\":2,\"right_units\":\"screen\",\"syncable\":false,\"top_units\":\"screen\"},\"id\":\"1334\",\"type\":\"BoxAnnotation\"},{\"attributes\":{\"coordinates\":null,\"formatter\":{\"id\":\"1323\"},\"group\":null,\"major_label_policy\":{\"id\":\"1367\"},\"ticker\":{\"id\":\"1321\"}},\"id\":\"1320\",\"type\":\"MercatorAxis\"}],\"root_ids\":[\"1301\"]},\"title\":\"Bokeh Application\",\"version\":\"2.4.2\"}};\n  const render_items = [{\"docid\":\"9bb20dbc-b48e-463e-910b-2357454dc77d\",\"root_ids\":[\"1301\"],\"roots\":{\"1301\":\"00ed6c4c-b486-4d27-8983-8feea288d56e\"}}];\n  root.Bokeh.embed.embed_items_notebook(docs_json, render_items);\n\n  }\n  if (root.Bokeh !== undefined) {\n    embed_document(root);\n  } else {\n    let attempts = 0;\n    const timer = setInterval(function(root) {\n      if (root.Bokeh !== undefined) {\n        clearInterval(timer);\n        embed_document(root);\n      } else {\n        attempts++;\n        if (attempts > 100) {\n          clearInterval(timer);\n          console.log(\"Bokeh: ERROR: Unable to run BokehJS code because BokehJS library is missing\");\n        }\n      }\n    }, 10, root)\n  }\n})(window);",
      "application/vnd.bokehjs_exec.v0+json": ""
     },
     "metadata": {
      "application/vnd.bokehjs_exec.v0+json": {
       "id": "1301"
      }
     },
     "output_type": "display_data"
    }
   ],
   "source": [
    "# MAP\n",
    "\n",
    "# load MC area\n",
    "cm_points = pd.read_csv('shared_data/districts/central_madrid_points.csv')\n",
    "\n",
    "points = df_stations[[\"utm_x\", \"utm_y\"]].values\n",
    "path = Path(cm_points[[\"utm_x\", \"utm_y\"]].values)\n",
    "points_in_path_mask = path.contains_points(points)\n",
    "\n",
    "# plot map\n",
    "p = figure(title=\"Air quality stations in Madrid\", x_axis_type=\"mercator\", y_axis_type=\"mercator\")\n",
    "\n",
    "source = ColumnDataSource(df_stations)\n",
    "cr = p.circle(x=\"utm_x\", y=\"utm_y\",  size=10, source=source)\n",
    "\n",
    "cartodb = get_provider(CARTODBPOSITRON)\n",
    "p.add_tile(cartodb)\n",
    "\n",
    "p.add_tools(HoverTool(tooltips=[('Name', '@name')], renderers=[cr]))\n",
    "\n",
    "show(p)"
   ]
  }
 ],
 "metadata": {
  "interpreter": {
   "hash": "7ddedbcd29fde6a544c51d6b472c0f25abc03cef05b4c1054f5ff10445887693"
  },
  "kernelspec": {
   "display_name": "Python 3.7.0 ('SDAV')",
   "language": "python",
   "name": "python3"
  },
  "language_info": {
   "codemirror_mode": {
    "name": "ipython",
    "version": 3
   },
   "file_extension": ".py",
   "mimetype": "text/x-python",
   "name": "python",
   "nbconvert_exporter": "python",
   "pygments_lexer": "ipython3",
   "version": "3.7.0"
  }
 },
 "nbformat": 4,
 "nbformat_minor": 5
}
